{
 "cells": [
  {
   "cell_type": "code",
   "execution_count": 1,
   "metadata": {},
   "outputs": [
    {
     "name": "stdout",
     "output_type": "stream",
     "text": [
      "How many bugs? 4\n",
      "X Size of the world? 10\n",
      "Y Size of the world? 10\n",
      "Length of the simulation in cycles? 10\n",
      "Bug number  0  has been created at  0 ,  8\n",
      "Bug number  1  has been created at  4 ,  3\n",
      "Bug number  2  has been created at  9 ,  4\n",
      "Bug number  3  has been created at  6 ,  6\n",
      "Bug number  0  moved to X =  0  Y =  7\n",
      "Bug number  1  moved to X =  4  Y =  4\n",
      "Bug number  3  moved to X =  6  Y =  6\n",
      "Bug number  2  moved to X =  0  Y =  4\n",
      "Bug number  1  moved to X =  5  Y =  5\n",
      "Bug number  3  moved to X =  7  Y =  6\n",
      "Bug number  2  moved to X =  9  Y =  5\n",
      "Bug number  0  moved to X =  1  Y =  6\n",
      "Bug number  3  moved to X =  8  Y =  6\n",
      "Bug number  1  moved to X =  4  Y =  4\n",
      "Bug number  2  moved to X =  0  Y =  4\n",
      "Bug number  0  moved to X =  0  Y =  5\n",
      "Bug number  0  moved to X =  9  Y =  4\n",
      "Bug number  1  moved to X =  3  Y =  3\n",
      "Bug number  2  moved to X =  1  Y =  4\n",
      "Bug number  3  moved to X =  7  Y =  6\n",
      "Bug number  0  moved to X =  0  Y =  5\n",
      "Bug number  3  moved to X =  8  Y =  6\n",
      "Bug number  2  moved to X =  1  Y =  5\n",
      "Bug number  1  moved to X =  2  Y =  4\n",
      "Bug number  0  moved to X =  1  Y =  4\n",
      "Bug number  1  moved to X =  1  Y =  5\n",
      "Bug number  2  moved to X =  0  Y =  4\n",
      "Bug number  3  moved to X =  8  Y =  7\n",
      "Bug number  1  moved to X =  2  Y =  6\n",
      "Bug number  0  moved to X =  1  Y =  4\n",
      "Bug number  3  moved to X =  8  Y =  8\n",
      "Bug number  2  moved to X =  9  Y =  5\n",
      "Bug number  2  moved to X =  8  Y =  6\n",
      "Bug number  1  moved to X =  2  Y =  6\n",
      "Bug number  3  moved to X =  9  Y =  7\n",
      "Bug number  0  moved to X =  2  Y =  5\n",
      "Bug number  3  moved to X =  8  Y =  6\n",
      "Bug number  0  moved to X =  3  Y =  6\n",
      "Bug number  1  moved to X =  2  Y =  5\n",
      "Bug number  2  moved to X =  9  Y =  5\n",
      "Bug number  1  moved to X =  1  Y =  5\n",
      "Bug number  2  moved to X =  0  Y =  5\n",
      "Bug number  3  moved to X =  8  Y =  5\n",
      "Bug number  0  moved to X =  4  Y =  7\n"
     ]
    }
   ],
   "source": [
    "# start 4 basicObjectProgrammingManyBugs_bugExternal_+_shuffle\n",
    "import Bug\n",
    "import random\n",
    "\n",
    "nBugs = input(\"How many bugs? \")\n",
    "bugList = []\n",
    "worldXSize= input(\"X Size of the world? \")\n",
    "worldYSize= input(\"Y Size of the world? \")\n",
    "length = input(\"Length of the simulation in cycles? \")\n",
    "\n",
    "\n",
    "for i in range(nBugs):\n",
    "    aBug = Bug.Bug(i, random.randint(0,worldXSize-1), \\\n",
    "                            random.randint(0,worldYSize-1), \\\n",
    "                            worldXSize, worldYSize)\n",
    "    bugList.append(aBug)\n",
    "\n",
    "for t in range(length):\n",
    "\n",
    "    random.shuffle(bugList)\n",
    "    \n",
    "    for aBug in bugList:\n",
    "        aBug.randomWalk()\n",
    "        aBug.reportPosition()\n"
   ]
  }
 ],
 "metadata": {
  "kernelspec": {
   "display_name": "Python 2",
   "language": "python",
   "name": "python2"
  },
  "language_info": {
   "codemirror_mode": {
    "name": "ipython",
    "version": 2
   },
   "file_extension": ".py",
   "mimetype": "text/x-python",
   "name": "python",
   "nbconvert_exporter": "python",
   "pygments_lexer": "ipython2",
   "version": "2.7.13"
  }
 },
 "nbformat": 4,
 "nbformat_minor": 2
}
