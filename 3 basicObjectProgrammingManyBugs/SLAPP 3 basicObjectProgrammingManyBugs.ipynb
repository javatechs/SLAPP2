{
 "cells": [
  {
   "cell_type": "code",
   "execution_count": 1,
   "metadata": {},
   "outputs": [
    {
     "name": "stdout",
     "output_type": "stream",
     "text": [
      "How many bugs? 2\n",
      "X Size of the world? 100\n",
      "Y Size of the world? 100\n",
      "Length of the simulation in cycles? 3\n",
      "Bug number  0  has been created at  40 ,  42\n",
      "Bug number  1  has been created at  16 ,  9\n",
      "Bug number  0  moved to X =  39  Y =  43\n",
      "Bug number  1  moved to X =  15  Y =  8\n",
      "Bug number  0  moved to X =  40  Y =  43\n",
      "Bug number  1  moved to X =  15  Y =  7\n",
      "Bug number  0  moved to X =  40  Y =  44\n",
      "Bug number  1  moved to X =  16  Y =  6\n"
     ]
    }
   ],
   "source": [
    "# start 3 basicObjectProgrammingManyBugs.py\n",
    "import random\n",
    "\n",
    "class Bug:\n",
    "    def __init__(self, number, xPos, yPos, worldXSize = 80, worldYSize = 80):\n",
    "        # the environment\n",
    "        self.number = number\n",
    "        self.worldXSize = worldXSize\n",
    "        self.worldYSize = worldYSize\n",
    "        # the bug\n",
    "        self.xPos = xPos\n",
    "        self.yPos = yPos\n",
    "        print \"Bug number \", self.number, \\\n",
    "     \t      \" has been created at \", self.xPos, \", \", self.yPos\n",
    "\n",
    "    # the action\n",
    "    def randomWalk(self):\n",
    "        self.xPos += randomMove()\n",
    "        self.yPos += randomMove()\n",
    "        self.xPos = (self.xPos + self.worldXSize) % self.worldXSize\n",
    "        self.yPos = (self.yPos + self.worldYSize) % self.worldYSize\n",
    "    # report\n",
    "    def reportPosition(self):\n",
    "        print \"Bug number \", self.number, \" moved to X = \", \\\n",
    "               self.xPos, \" Y = \", self.yPos\n",
    "\n",
    "# returns -1, 0, 1  with equal probability\n",
    "def randomMove():\n",
    "    return random.randint(-1, 1)\n",
    "\n",
    "nBugs = input(\"How many bugs? \")\n",
    "bugList = [0] * nBugs\n",
    "worldXSize= input(\"X Size of the world? \")\n",
    "worldYSize= input(\"Y Size of the world? \")\n",
    "length = input(\"Length of the simulation in cycles? \")\n",
    "\n",
    "\n",
    "for i in range(nBugs):\n",
    "    aBug = Bug(i, random.randint(0,worldXSize-1), \\\n",
    "                            random.randint(0,worldYSize-1),\n",
    "                            worldXSize, worldYSize)\n",
    "    bugList[i] = aBug\n",
    "\n",
    "for t in range(length):\n",
    "    for aBug in bugList:\n",
    "        aBug.randomWalk()\n",
    "        aBug.reportPosition()\n"
   ]
  }
 ],
 "metadata": {
  "kernelspec": {
   "display_name": "Python 2",
   "language": "python",
   "name": "python2"
  },
  "language_info": {
   "codemirror_mode": {
    "name": "ipython",
    "version": 2
   },
   "file_extension": ".py",
   "mimetype": "text/x-python",
   "name": "python",
   "nbconvert_exporter": "python",
   "pygments_lexer": "ipython2",
   "version": "2.7.13"
  }
 },
 "nbformat": 4,
 "nbformat_minor": 2
}
