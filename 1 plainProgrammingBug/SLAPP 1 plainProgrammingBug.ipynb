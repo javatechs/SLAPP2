{
 "cells": [
  {
   "cell_type": "code",
   "execution_count": 2,
   "metadata": {},
   "outputs": [
    {
     "name": "stdout",
     "output_type": "stream",
     "text": [
      "I moved to X =  39  Y =  41\n",
      "I moved to X =  40  Y =  42\n",
      "I moved to X =  40  Y =  43\n",
      "I moved to X =  39  Y =  44\n",
      "I moved to X =  39  Y =  43\n",
      "I moved to X =  40  Y =  44\n",
      "I moved to X =  41  Y =  44\n",
      "I moved to X =  41  Y =  45\n",
      "I moved to X =  40  Y =  46\n",
      "I moved to X =  40  Y =  47\n"
     ]
    },
    {
     "data": {
      "text/plain": [
       "'\\nyou can eliminate the randomMove() function substituting\\n        xPos += randomMove()\\n        yPos += randomMove()\\nwith\\n        xPos += random.randint(-1, 1)\\n        yPos += random.randint(-1, 1)\\n\\nbut the use of the function allows us to use here a self-explanatory\\nname\\n'"
      ]
     },
     "execution_count": 2,
     "metadata": {},
     "output_type": "execute_result"
    }
   ],
   "source": [
    "#start 1 plainProgrammingBug.py\n",
    "import random\n",
    "\n",
    "def SimpleBug():\n",
    "\n",
    "    # the environment\n",
    "    worldXSize = 80\n",
    "    worldYSize = 80\n",
    "\n",
    "    # the bug\n",
    "    xPos = 40\n",
    "    yPos = 40\n",
    "\n",
    "    # the action\n",
    "    for i in range(10):\n",
    "        xPos += randomMove()\n",
    "        yPos += randomMove()\n",
    "        xPos = (xPos + worldXSize) % worldXSize\n",
    "        yPos = (yPos + worldYSize) % worldYSize\n",
    "        print \"I moved to X = \", xPos, \" Y = \", yPos\n",
    "\n",
    "# returns -1, 0, 1  with equal probability\n",
    "def randomMove():\n",
    "    return random.randint(-1, 1)\n",
    "\n",
    "SimpleBug()\n",
    "\n",
    "\"\"\"\n",
    "you can eliminate the randomMove() function substituting\n",
    "        xPos += randomMove()\n",
    "        yPos += randomMove()\n",
    "with\n",
    "        xPos += random.randint(-1, 1)\n",
    "        yPos += random.randint(-1, 1)\n",
    "\n",
    "but the use of the function allows us to use here a self-explanatory\n",
    "name\n",
    "\"\"\"\n"
   ]
  }
 ],
 "metadata": {
  "kernelspec": {
   "display_name": "Python 2",
   "language": "python",
   "name": "python2"
  },
  "language_info": {
   "codemirror_mode": {
    "name": "ipython",
    "version": 2
   },
   "file_extension": ".py",
   "mimetype": "text/x-python",
   "name": "python",
   "nbconvert_exporter": "python",
   "pygments_lexer": "ipython2",
   "version": "2.7.13"
  }
 },
 "nbformat": 4,
 "nbformat_minor": 2
}
